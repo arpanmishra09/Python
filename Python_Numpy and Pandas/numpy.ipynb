{
 "cells": [
  {
   "cell_type": "markdown",
   "metadata": {},
   "source": [
    "## NUMPY VERSION"
   ]
  },
  {
   "cell_type": "code",
   "execution_count": 3,
   "metadata": {},
   "outputs": [
    {
     "name": "stdout",
     "output_type": "stream",
     "text": [
      "The Numpy version is 1.19.2\n"
     ]
    }
   ],
   "source": [
    "import numpy as n\n",
    "print(f'The Numpy version is {n.version.version}')"
   ]
  },
  {
   "cell_type": "markdown",
   "metadata": {},
   "source": [
    "## LIST OF NUMERIC VALUES TO 1D NUMPY ARRAY"
   ]
  },
  {
   "cell_type": "code",
   "execution_count": 28,
   "metadata": {},
   "outputs": [
    {
     "name": "stdout",
     "output_type": "stream",
     "text": [
      "[1 5 3 6]\n"
     ]
    }
   ],
   "source": [
    "lst= [1,5,3,6]\n",
    "nmpy= n.array(lst)\n",
    "print(nmpy)"
   ]
  },
  {
   "cell_type": "markdown",
   "metadata": {},
   "source": [
    "## ARRAY WITH VALUES FROM 12 TO 38"
   ]
  },
  {
   "cell_type": "code",
   "execution_count": 30,
   "metadata": {},
   "outputs": [
    {
     "data": {
      "text/plain": [
       "array([12, 13, 14, 15, 16, 17, 18, 19, 20, 21, 22, 23, 24, 25, 26, 27, 28,\n",
       "       29, 30, 31, 32, 33, 34, 35, 36, 37, 38])"
      ]
     },
     "execution_count": 30,
     "metadata": {},
     "output_type": "execute_result"
    }
   ],
   "source": [
    "n.arange(12,39)"
   ]
  },
  {
   "cell_type": "markdown",
   "metadata": {},
   "source": [
    "## LIST AND TUPLE INTO ARRAY"
   ]
  },
  {
   "cell_type": "code",
   "execution_count": 35,
   "metadata": {},
   "outputs": [
    {
     "name": "stdout",
     "output_type": "stream",
     "text": [
      "[1 2 3 4]\n",
      "[1 4 6 3]\n"
     ]
    }
   ],
   "source": [
    "tpl= (1,2,3,4)\n",
    "lst1= [1,4,6,3]\n",
    "print(n.array(tpl))\n",
    "print(n.array(lst1))"
   ]
  },
  {
   "cell_type": "markdown",
   "metadata": {},
   "source": [
    "## NUMBER,LENGTH IN BYTES AND BYTE CONSUMED BY ELEMENTS IN AN ARRAY "
   ]
  },
  {
   "cell_type": "code",
   "execution_count": 47,
   "metadata": {},
   "outputs": [
    {
     "name": "stdout",
     "output_type": "stream",
     "text": [
      "The length of the array is :27\n",
      "In the array [12 13 14 15 16 17 18 19 20 21 22 23 24 25 26 27 28 29 30 31 32 33 34 35\n",
      " 36 37 38] one element consumes 4 bytes and a total of 108 bytes is being consumed as a whole.\n"
     ]
    }
   ],
   "source": [
    "arr= n.arange(12,39)\n",
    "print(f'The length of the array is :{len(arr)}')\n",
    "print(f'In the array {arr} one element consumes {arr.itemsize} bytes and a total of {arr.nbytes} bytes is being consumed as a whole.')"
   ]
  },
  {
   "cell_type": "markdown",
   "metadata": {},
   "source": [
    "## COMPARE TWO ARRAYS"
   ]
  },
  {
   "cell_type": "code",
   "execution_count": 76,
   "metadata": {},
   "outputs": [
    {
     "name": "stdout",
     "output_type": "stream",
     "text": [
      "Element wise comparison=\n",
      "aar>arr1: \n",
      "[False False False  True False]\n",
      "aar<arr1: \n",
      "[ True  True False False  True]\n",
      "aar=arr1: \n",
      "[False False  True False False]\n"
     ]
    }
   ],
   "source": [
    "arr= n.array([1,6,8,10,2])\n",
    "arr1= n.array([2,44,8,9,6])\n",
    "g=n.greater(arr,arr1)\n",
    "l=n.less(arr,arr1)\n",
    "e= n.equal(arr,arr1)\n",
    "print('Element wise comparison=')\n",
    "print(f'aar>arr1: \\n{g}')\n",
    "print(f'aar<arr1: \\n{l}')\n",
    "print(f'aar=arr1: \\n{e}')"
   ]
  },
  {
   "cell_type": "markdown",
   "metadata": {},
   "source": [
    "## NUMBER OF NON-ZERO ELEMENTS"
   ]
  },
  {
   "cell_type": "code",
   "execution_count": 85,
   "metadata": {},
   "outputs": [
    {
     "name": "stdout",
     "output_type": "stream",
     "text": [
      "The number of non-zero elements in the array= 4\n"
     ]
    }
   ],
   "source": [
    "arr2= n.array([1,5,0,6,2,0])\n",
    "print(f'The number of non-zero elements in the array= {n.count_nonzero(arr2)}')"
   ]
  },
  {
   "cell_type": "markdown",
   "metadata": {},
   "source": [
    "## NUMPY ARRAY IS EMPTY OR NOT"
   ]
  },
  {
   "cell_type": "code",
   "execution_count": 84,
   "metadata": {},
   "outputs": [
    {
     "name": "stdout",
     "output_type": "stream",
     "text": [
      "The Array is empty\n"
     ]
    }
   ],
   "source": [
    "arr3= n.array([])\n",
    "if len(arr3)==0:\n",
    "    print('The Array is empty')\n",
    "else:\n",
    "    print('The Array is not empty')"
   ]
  },
  {
   "cell_type": "markdown",
   "metadata": {},
   "source": [
    "## POWERS OF ARRAY VALUES ELEMENT WISE"
   ]
  },
  {
   "cell_type": "code",
   "execution_count": 21,
   "metadata": {},
   "outputs": [
    {
     "data": {
      "text/plain": [
       "[1.0,\n",
       " 2.25,\n",
       " 4.0,\n",
       " 6.25,\n",
       " 9.0,\n",
       " 12.25,\n",
       " 16.0,\n",
       " 20.25,\n",
       " 25.0,\n",
       " 30.25,\n",
       " 36.0,\n",
       " 42.25,\n",
       " 49.0,\n",
       " 56.25,\n",
       " 64.0,\n",
       " 72.25,\n",
       " 81.0,\n",
       " 90.25]"
      ]
     },
     "execution_count": 21,
     "metadata": {},
     "output_type": "execute_result"
    }
   ],
   "source": [
    "arr4= n.arange(1,10,0.5)\n",
    "list(i**2 for i in arr4)"
   ]
  },
  {
   "cell_type": "markdown",
   "metadata": {},
   "source": [
    "## STACK TWO ARRAYS"
   ]
  },
  {
   "cell_type": "code",
   "execution_count": 28,
   "metadata": {},
   "outputs": [
    {
     "name": "stdout",
     "output_type": "stream",
     "text": [
      "[[ 1.         21.        ]\n",
      " [ 1.3877551  21.3877551 ]\n",
      " [ 1.7755102  21.7755102 ]\n",
      " [ 2.16326531 22.16326531]\n",
      " [ 2.55102041 22.55102041]\n",
      " [ 2.93877551 22.93877551]\n",
      " [ 3.32653061 23.32653061]\n",
      " [ 3.71428571 23.71428571]\n",
      " [ 4.10204082 24.10204082]\n",
      " [ 4.48979592 24.48979592]\n",
      " [ 4.87755102 24.87755102]\n",
      " [ 5.26530612 25.26530612]\n",
      " [ 5.65306122 25.65306122]\n",
      " [ 6.04081633 26.04081633]\n",
      " [ 6.42857143 26.42857143]\n",
      " [ 6.81632653 26.81632653]\n",
      " [ 7.20408163 27.20408163]\n",
      " [ 7.59183673 27.59183673]\n",
      " [ 7.97959184 27.97959184]\n",
      " [ 8.36734694 28.36734694]\n",
      " [ 8.75510204 28.75510204]\n",
      " [ 9.14285714 29.14285714]\n",
      " [ 9.53061224 29.53061224]\n",
      " [ 9.91836735 29.91836735]\n",
      " [10.30612245 30.30612245]\n",
      " [10.69387755 30.69387755]\n",
      " [11.08163265 31.08163265]\n",
      " [11.46938776 31.46938776]\n",
      " [11.85714286 31.85714286]\n",
      " [12.24489796 32.24489796]\n",
      " [12.63265306 32.63265306]\n",
      " [13.02040816 33.02040816]\n",
      " [13.40816327 33.40816327]\n",
      " [13.79591837 33.79591837]\n",
      " [14.18367347 34.18367347]\n",
      " [14.57142857 34.57142857]\n",
      " [14.95918367 34.95918367]\n",
      " [15.34693878 35.34693878]\n",
      " [15.73469388 35.73469388]\n",
      " [16.12244898 36.12244898]\n",
      " [16.51020408 36.51020408]\n",
      " [16.89795918 36.89795918]\n",
      " [17.28571429 37.28571429]\n",
      " [17.67346939 37.67346939]\n",
      " [18.06122449 38.06122449]\n",
      " [18.44897959 38.44897959]\n",
      " [18.83673469 38.83673469]\n",
      " [19.2244898  39.2244898 ]\n",
      " [19.6122449  39.6122449 ]\n",
      " [20.         40.        ]]\n",
      "row: \n",
      " [[ 1.          1.3877551   1.7755102   2.16326531  2.55102041  2.93877551\n",
      "   3.32653061  3.71428571  4.10204082  4.48979592  4.87755102  5.26530612\n",
      "   5.65306122  6.04081633  6.42857143  6.81632653  7.20408163  7.59183673\n",
      "   7.97959184  8.36734694  8.75510204  9.14285714  9.53061224  9.91836735\n",
      "  10.30612245 10.69387755 11.08163265 11.46938776 11.85714286 12.24489796\n",
      "  12.63265306 13.02040816 13.40816327 13.79591837 14.18367347 14.57142857\n",
      "  14.95918367 15.34693878 15.73469388 16.12244898 16.51020408 16.89795918\n",
      "  17.28571429 17.67346939 18.06122449 18.44897959 18.83673469 19.2244898\n",
      "  19.6122449  20.        ]\n",
      " [21.         21.3877551  21.7755102  22.16326531 22.55102041 22.93877551\n",
      "  23.32653061 23.71428571 24.10204082 24.48979592 24.87755102 25.26530612\n",
      "  25.65306122 26.04081633 26.42857143 26.81632653 27.20408163 27.59183673\n",
      "  27.97959184 28.36734694 28.75510204 29.14285714 29.53061224 29.91836735\n",
      "  30.30612245 30.69387755 31.08163265 31.46938776 31.85714286 32.24489796\n",
      "  32.63265306 33.02040816 33.40816327 33.79591837 34.18367347 34.57142857\n",
      "  34.95918367 35.34693878 35.73469388 36.12244898 36.51020408 36.89795918\n",
      "  37.28571429 37.67346939 38.06122449 38.44897959 38.83673469 39.2244898\n",
      "  39.6122449  40.        ]]\n"
     ]
    }
   ],
   "source": [
    "a1= n.linspace(1,20,50)\n",
    "a2= n.linspace(21,40,50)\n",
    "print(f'column: \\n {n.column_stack((a1,a2))}')\n",
    "print(f'row: \\n {n.row_stack((a1,a2))}')"
   ]
  },
  {
   "cell_type": "code",
   "execution_count": null,
   "metadata": {},
   "outputs": [],
   "source": []
  }
 ],
 "metadata": {
  "kernelspec": {
   "display_name": "Python 3",
   "language": "python",
   "name": "python3"
  },
  "language_info": {
   "codemirror_mode": {
    "name": "ipython",
    "version": 3
   },
   "file_extension": ".py",
   "mimetype": "text/x-python",
   "name": "python",
   "nbconvert_exporter": "python",
   "pygments_lexer": "ipython3",
   "version": "3.8.5"
  }
 },
 "nbformat": 4,
 "nbformat_minor": 4
}
